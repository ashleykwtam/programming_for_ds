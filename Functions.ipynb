{
 "cells": [
  {
   "cell_type": "markdown",
   "id": "6fe0fb29",
   "metadata": {},
   "source": [
    "Functions wrap logic in a container. They are defined with def and take in arguments (inputs). The body usually includes a return statement used to send output value"
   ]
  },
  {
   "cell_type": "code",
   "execution_count": 2,
   "id": "1ec2aa5d",
   "metadata": {},
   "outputs": [
    {
     "name": "stdout",
     "output_type": "stream",
     "text": [
      "Calling show_plus_ten...\n",
      "15\n",
      "Done calling\n",
      "This function returned: None\n",
      "\n",
      "Calling add_ten...\n",
      "Done calling\n",
      "This function returned: 15\n"
     ]
    }
   ],
   "source": [
    "def show_plus_ten(num):\n",
    "    print(num + 10)\n",
    "\n",
    "def add_ten(num):\n",
    "    return(num + 10)\n",
    "\n",
    "print('Calling show_plus_ten...')\n",
    "return_value_1 = show_plus_ten(5)\n",
    "print('Done calling')\n",
    "print('This function returned: {}'.format(return_value_1))\n",
    "\n",
    "print('\\nCalling add_ten...')\n",
    "return_value_2 = add_ten(5)\n",
    "print('Done calling')\n",
    "print('This function returned: {}'.format(return_value_2))"
   ]
  },
  {
   "cell_type": "code",
   "execution_count": 4,
   "id": "4b7345ab",
   "metadata": {},
   "outputs": [
    {
     "name": "stdout",
     "output_type": "stream",
     "text": [
      "expected result: 10, actual result: 10.0\n",
      "expected result: 7123.6902801, actual result: 7123.690280065897\n"
     ]
    }
   ],
   "source": [
    "# Write a function named population_density that takes two arguments, population and land_area, and returns a population density\n",
    "\n",
    "def population_density(population, land_area):\n",
    "    return population / land_area\n",
    "\n",
    "test1 = population_density(10, 1)\n",
    "expected_result1 = 10\n",
    "print(\"expected result: {}, actual result: {}\".format(expected_result1, test1))\n",
    "\n",
    "test2 = population_density(864816, 121.4)\n",
    "expected_result2 = 7123.6902801\n",
    "print(\"expected result: {}, actual result: {}\".format(expected_result2, test2))"
   ]
  },
  {
   "cell_type": "code",
   "execution_count": 8,
   "id": "914e817e",
   "metadata": {},
   "outputs": [
    {
     "name": "stdout",
     "output_type": "stream",
     "text": [
      "2 week(s) and 6 day(s)\n"
     ]
    }
   ],
   "source": [
    "# Write a function named readable_timedelta. The function should take one argument, an integer days, \n",
    "# and return a string that says how many weeks and days that is.\n",
    "\n",
    "def readable_timedelta(days):\n",
    "    \"\"\" Calculate the amount of weeks and days an integer has\"\"\"\n",
    "    \n",
    "    weeks = days // 7\n",
    "    d = days % 7\n",
    "    return \"{} week(s) and {} day(s)\".format(weeks, d)\n",
    "\n",
    "print(readable_timedelta(20))"
   ]
  },
  {
   "cell_type": "code",
   "execution_count": 11,
   "id": "c399e63f",
   "metadata": {},
   "outputs": [
    {
     "name": "stdout",
     "output_type": "stream",
     "text": [
      "[57.0, 58.2, 50.6, 27.2]\n"
     ]
    }
   ],
   "source": [
    "# Lambda with Map\n",
    "\n",
    "numbers = [\n",
    "              [34, 63, 88, 71, 29],\n",
    "              [90, 78, 51, 27, 45],\n",
    "              [63, 37, 85, 46, 22],\n",
    "              [51, 22, 34, 11, 18]\n",
    "           ]\n",
    "\n",
    "def mean(num_list):\n",
    "    return sum(num_list) / len(num_list)\n",
    "\n",
    "averages = list(map(mean, numbers))\n",
    "print(averages)\n",
    "\n",
    "mean = lambda num_list: sum(num_list) / len(num_list)\n",
    "\n",
    "averages = list(map(lambda x: sum(x) / len(x), numbers))"
   ]
  },
  {
   "cell_type": "code",
   "execution_count": 14,
   "id": "b40c2ceb",
   "metadata": {},
   "outputs": [
    {
     "name": "stdout",
     "output_type": "stream",
     "text": [
      "['Chicago', 'Denver', 'Boston']\n"
     ]
    }
   ],
   "source": [
    "# Lambda with Filter\n",
    "\n",
    "cities = [\"New York City\", \"Los Angeles\", \"Chicago\", \"Mountain View\", \"Denver\", \"Boston\"]\n",
    "\n",
    "def is_short(name):\n",
    "    return len(name) < 10\n",
    "\n",
    "short_cities = list(filter(is_short, cities))\n",
    "print(short_cities)\n",
    "\n",
    "short_cities = list(filter(lambda name: len(name) < 10, cities))"
   ]
  },
  {
   "cell_type": "code",
   "execution_count": null,
   "id": "1882edd6",
   "metadata": {},
   "outputs": [],
   "source": []
  }
 ],
 "metadata": {
  "kernelspec": {
   "display_name": "Python 3 (ipykernel)",
   "language": "python",
   "name": "python3"
  },
  "language_info": {
   "codemirror_mode": {
    "name": "ipython",
    "version": 3
   },
   "file_extension": ".py",
   "mimetype": "text/x-python",
   "name": "python",
   "nbconvert_exporter": "python",
   "pygments_lexer": "ipython3",
   "version": "3.9.9"
  }
 },
 "nbformat": 4,
 "nbformat_minor": 5
}
